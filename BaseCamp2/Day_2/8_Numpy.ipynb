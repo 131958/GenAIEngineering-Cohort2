{
 "cells": [
  {
   "cell_type": "code",
   "execution_count": 2,
   "metadata": {},
   "outputs": [],
   "source": [
    "import numpy as np"
   ]
  },
  {
   "cell_type": "code",
   "execution_count": 3,
   "metadata": {},
   "outputs": [
    {
     "name": "stdout",
     "output_type": "stream",
     "text": [
      "(5,)\n",
      "5\n",
      "[1 2 3 4 5]\n"
     ]
    }
   ],
   "source": [
    "# Creation of a simple array\n",
    "arr_1D = np.array ([1, 2, 3, 4, 5])\n",
    "print (arr_1D.shape)\n",
    "print (arr_1D.size)\n",
    "print (arr_1D)"
   ]
  },
  {
   "cell_type": "code",
   "execution_count": 13,
   "metadata": {},
   "outputs": [
    {
     "name": "stdout",
     "output_type": "stream",
     "text": [
      "(3, 3)\n",
      "9\n",
      "[[1 1 1]\n",
      " [1 2 1]\n",
      " [1 3 1]]\n",
      "(3, 2, 2)\n",
      "12\n",
      "[[[ 1  2]\n",
      "  [ 3  4]]\n",
      "\n",
      " [[ 5  6]\n",
      "  [ 7  8]]\n",
      "\n",
      " [[ 9 10]\n",
      "  [12 13]]]\n",
      "(2, 3, 2)\n",
      "12\n",
      "[[[ 1  2]\n",
      "  [ 3  4]\n",
      "  [ 5  6]]\n",
      "\n",
      " [[ 7  8]\n",
      "  [ 9 10]\n",
      "  [12 13]]]\n",
      "(2, 3)\n"
     ]
    }
   ],
   "source": [
    "# Creation of a 2D array\n",
    "arr_2D = np.array ([[1, 1, 1],[1, 2, 1], [1,3 ,1]])\n",
    "print (arr_2D.shape)\n",
    "print (arr_2D.size)\n",
    "print (arr_2D)\n",
    "\n",
    "# Creation of a 3D array\n",
    "arr_3D = np.array([[[1, 2], [3, 4]], [[5, 6], [7, 8]], [[9, 10],[12, 13] ]])\n",
    "print(arr_3D.shape)\n",
    "print(arr_3D.size)\n",
    "print(arr_3D)  \n",
    "\n",
    "arr_3d_reshape = arr_3D.reshape(2, 3, 2)\n",
    "print(arr_3d_reshape.shape)\n",
    "print(arr_3d_reshape.size)  \n",
    "print(arr_3d_reshape)\n",
    "# Creation of an array with zeros   \n",
    "arr_zeros = np.zeros((2, 3))\n",
    "print(arr_zeros.shape)"
   ]
  },
  {
   "cell_type": "code",
   "execution_count": 20,
   "metadata": {},
   "outputs": [
    {
     "name": "stdout",
     "output_type": "stream",
     "text": [
      "<class 'numpy.ndarray'>\n",
      "[[1]\n",
      " [1]\n",
      " [1]]\n",
      "<class 'numpy.ndarray'>\n",
      "[1 2 1]\n",
      "<class 'numpy.ndarray'>\n",
      "[1 2 3]\n"
     ]
    }
   ],
   "source": [
    "# Accessing the array index. Note the diff between a list access\n",
    "x = arr_2D[0:3,0:1]\n",
    "print (type(x))\n",
    "print (x)\n",
    "\n",
    "# Get a row completely\n",
    "r = arr_2D [1, :]\n",
    "print (type(r))\n",
    "print (r)\n",
    "\n",
    "# Get a column completely\n",
    "c = arr_2D [:, 1]\n",
    "print (type(c))\n",
    "print (c)\n"
   ]
  },
  {
   "cell_type": "code",
   "execution_count": 21,
   "metadata": {},
   "outputs": [
    {
     "name": "stdout",
     "output_type": "stream",
     "text": [
      "(3, 3)\n",
      "9\n",
      "[[1 1 1]\n",
      " [1 2 1]\n",
      " [1 3 1]]\n",
      "<class 'numpy.ndarray'>\n",
      "[[1 1]\n",
      " [2 1]]\n",
      "<class 'numpy.ndarray'>\n",
      "[[1 1]\n",
      " [1 1]]\n",
      "<class 'numpy.ndarray'>\n",
      "[]\n",
      "<class 'numpy.ndarray'>\n",
      "[[1 1]\n",
      " [1 3]]\n",
      "<class 'numpy.ndarray'>\n",
      "[[1 1]\n",
      " [1 2]]\n"
     ]
    }
   ],
   "source": [
    "# Creation of a 2D array\n",
    "arr_2D = np.array ([[1, 1, 1],[1, 2, 1], [1,3 ,1]])\n",
    "print (arr_2D.shape)\n",
    "print (arr_2D.size)\n",
    "print (arr_2D)\n",
    "\n",
    "# Get a sub-array\n",
    "sub_arr = arr_2D[0:2, 1:3]  \n",
    "print(type(sub_arr))\n",
    "print(sub_arr)  \n",
    "# Get a sub-array with step\n",
    "sub_arr_step = arr_2D[0:3:2, 0:3:2] \n",
    "print(type(sub_arr_step))\n",
    "print(sub_arr_step) \n",
    "# Get a sub-array with negative step\n",
    "sub_arr_neg_step = arr_2D[0:3:2, 0:3:-1]\n",
    "print(type(sub_arr_neg_step))\n",
    "print(sub_arr_neg_step)  # This will return an empty array since the step is negative and the range is not valid\n",
    "# Get a sub-array with negative step in reverse order\n",
    "sub_arr_neg_step_reverse = arr_2D[0:3:2, 2:0:-1]\n",
    "print(type(sub_arr_neg_step_reverse))\n",
    "print(sub_arr_neg_step_reverse)  # This will return a valid sub-array with reversed columns \n",
    "# Get a sub-array with negative step in reverse order and different row range\n",
    "sub_arr_neg_step_reverse_row = arr_2D[0:2:1, 2:0:-1]\n",
    "print(type(sub_arr_neg_step_reverse_row))\n",
    "print(sub_arr_neg_step_reverse_row)  # This will return a valid sub-array with reversed columns and limited rows"
   ]
  },
  {
   "cell_type": "code",
   "execution_count": 22,
   "metadata": {},
   "outputs": [
    {
     "name": "stdout",
     "output_type": "stream",
     "text": [
      "(12, 10, 8, 20, 15, 40)\n",
      "11520000\n",
      "[0.88079339 0.71406203 0.67056491 0.50699714 0.72661105 0.99054897\n",
      " 0.75278715 0.89285894 0.93624045 0.18315333 0.73209162 0.2006817\n",
      " 0.33995072 0.32502736 0.84736994 0.91079691 0.49683149 0.52799087\n",
      " 0.24118748 0.1136703  0.29237724 0.51066062 0.45213271 0.63537073\n",
      " 0.47919658 0.07842738 0.31463226 0.56163716 0.940567   0.99202701\n",
      " 0.49766799 0.11392902 0.72098867 0.85642657 0.22839871 0.34703729\n",
      " 0.90204372 0.58862043 0.74923926 0.74120305] \n",
      "\n",
      "[0.88079339 0.94787901 0.75933208 0.66982924 0.92437964 0.99045108\n",
      " 0.68927248 0.99812303 0.95819608 0.01004502 0.92816486 0.9498402\n",
      " 0.54720879 0.70239179 0.47862666] \n",
      "\n",
      "[0.12856251 0.42677325 0.46359136 0.3840591  0.51866364 0.42610357\n",
      " 0.66962303 0.04200958 0.09656265 0.20461577 0.65220296 0.5944348 ]\n"
     ]
    }
   ],
   "source": [
    "# Create a multi-dimension array with random values\n",
    "# Its a 6 dimensional array of random numbers, with each dimension length different\n",
    "arr_mD = np.random.rand (12, 10, 8, 20, 15, 40)\n",
    "\n",
    "print (arr_mD.shape)\n",
    "print (arr_mD.size)\n",
    "\n",
    "# Observe the dimensions ...\n",
    "print (arr_mD[0,0,0,0,0,:],'\\n')\n",
    "print (arr_mD[0,0,0,0,:,0], '\\n')\n",
    "print (arr_mD[2,3,1,4,4,3:15])"
   ]
  },
  {
   "cell_type": "code",
   "execution_count": null,
   "metadata": {},
   "outputs": [],
   "source": [
    "# Want to see complete array ?\n",
    "print (arr_mD)"
   ]
  },
  {
   "cell_type": "markdown",
   "metadata": {},
   "source": [
    "Since arrays are fixed in size, it cannot be extended on the go like list  \n",
    "However there are functions provided to add elements to the array  \n",
    "These functions return a new array"
   ]
  },
  {
   "cell_type": "code",
   "execution_count": 23,
   "metadata": {},
   "outputs": [
    {
     "name": "stdout",
     "output_type": "stream",
     "text": [
      "[[1 1 1]\n",
      " [1 2 1]\n",
      " [1 3 1]]\n",
      "[[1 1 1]\n",
      " [1 2 1]\n",
      " [1 3 1]\n",
      " [1 4 1]]\n",
      "[[1 1 1 1]\n",
      " [1 2 1 4]\n",
      " [1 3 1 1]]\n"
     ]
    }
   ],
   "source": [
    "# Appending elements at the end of an existing array\n",
    "arr_2D = np.array ([[1,1,1], [1,2,1], [1,3,1]])\n",
    "print (arr_2D)\n",
    "\n",
    "# Add elements along axis 0 \n",
    "arr_2D_New = np.append (arr_2D, [[1,4,1]], axis=0)\n",
    "print (arr_2D_New)\n",
    "\n",
    "# Add elements along axis 1\n",
    "arr_2D_New = np.append (arr_2D, [[1],[4],[1]], axis=1)\n",
    "print (arr_2D_New)"
   ]
  },
  {
   "cell_type": "code",
   "execution_count": 25,
   "metadata": {},
   "outputs": [
    {
     "name": "stdout",
     "output_type": "stream",
     "text": [
      "[[1 1]\n",
      " [1 2]] \n",
      "\n",
      " [[2 1]\n",
      " [2 2]] \n",
      "\n",
      "\n",
      "[[1 1]\n",
      " [1 2]\n",
      " [2 1]\n",
      " [2 2]] \n",
      "\n",
      "\n",
      "[[1 1 2 1]\n",
      " [1 2 2 2]] \n",
      "\n",
      "\n"
     ]
    }
   ],
   "source": [
    "# Concatenate function can be used to merge multiple arrays into one\n",
    "arr_1 = np.array ([[1,1], [1,2]])\n",
    "arr_2 = np.array ([[2,1], [2,2]])\n",
    "\n",
    "print (arr_1, '\\n\\n', arr_2, '\\n\\n')\n",
    "\n",
    "arr_3 = np.concatenate ((arr_1, arr_2), axis=0)\n",
    "print (arr_3, '\\n\\n')\n",
    "arr_4 = np.concatenate ((arr_1, arr_2), axis=1)\n",
    "print (arr_4, '\\n\\n')"
   ]
  },
  {
   "cell_type": "markdown",
   "metadata": {},
   "source": [
    "Array can be re-shaped in terms of dimension & length by reshape method  \n",
    "The elements are re-arranged to the suit the required dimension, without changing the order  \n",
    "That means total number of elements will have to match to the dimension and length"
   ]
  },
  {
   "cell_type": "code",
   "execution_count": null,
   "metadata": {},
   "outputs": [],
   "source": [
    "# Make an one dimensional array in 2D array\n",
    "arr = np.array ([1,2,3,4,5,6,7,8,9,10,11,12])\n",
    "print (arr.shape)\n",
    "print (arr)\n",
    "\n",
    "# Reshape it into 2D\n",
    "arr_2D = arr.reshape ((3,4))\n",
    "print (arr_2D.shape)\n",
    "print (arr_2D)"
   ]
  },
  {
   "cell_type": "code",
   "execution_count": null,
   "metadata": {},
   "outputs": [],
   "source": [
    "# Reshape as 2D but diff length\n",
    "arr_2D = arr.reshape ((4,3))\n",
    "print (arr_2D.shape)\n",
    "print (arr_2D)"
   ]
  },
  {
   "cell_type": "code",
   "execution_count": null,
   "metadata": {},
   "outputs": [],
   "source": [
    "# Reshape as 3D to match the total number of elements\n",
    "arr_3D = arr.reshape ((2, 2, 3))\n",
    "print (arr_3D.shape)\n",
    "print (arr_3D)"
   ]
  },
  {
   "cell_type": "markdown",
   "metadata": {},
   "source": [
    "Arithmatic, aggregation, scalar and other mathematical operations can be done using the numpy functions  \n",
    "Its done in vectorised way, hence faster"
   ]
  },
  {
   "cell_type": "code",
   "execution_count": 26,
   "metadata": {},
   "outputs": [
    {
     "name": "stdout",
     "output_type": "stream",
     "text": [
      "Addition : \n",
      " [[ 6  8]\n",
      " [10 12]]\n",
      "Subtraction : \n",
      " [[-4 -4]\n",
      " [-4 -4]]\n",
      "Multiplication : \n",
      " [[ 5 12]\n",
      " [21 32]]\n",
      "Division : \n",
      " [[0.2        0.33333333]\n",
      " [0.42857143 0.5       ]]\n"
     ]
    }
   ],
   "source": [
    "# Basic arithmatic operations\n",
    "arr_1 = np.array ([[1, 2], [3, 4]])\n",
    "arr_2 = np.array ([[5, 6], [7, 8]])\n",
    "\n",
    "print (\"Addition : \\n\", arr_1 + arr_2)\n",
    "print (\"Subtraction : \\n\", arr_1 - arr_2)\n",
    "print (\"Multiplication : \\n\", arr_1 * arr_2)\n",
    "print (\"Division : \\n\", arr_1 / arr_2)"
   ]
  },
  {
   "cell_type": "code",
   "execution_count": 27,
   "metadata": {},
   "outputs": [
    {
     "name": "stdout",
     "output_type": "stream",
     "text": [
      "Scalar Addition : \n",
      " [[3 4]\n",
      " [5 6]]\n",
      "Scalar Multiplication : \n",
      " [[ 3.54  7.08]\n",
      " [10.62 14.16]]\n"
     ]
    }
   ],
   "source": [
    "# Scalar operations\n",
    "print (\"Scalar Addition : \\n\", arr_1 + 2)\n",
    "print (\"Scalar Multiplication : \\n\", arr_1 * 3.54)"
   ]
  },
  {
   "cell_type": "code",
   "execution_count": null,
   "metadata": {},
   "outputs": [],
   "source": [
    "# Aggregation functions can be made on the array\n",
    "print (\"Sum of Array Elements : \\n\", np.sum(arr_2))\n",
    "print (\"Mean of Array Elements : \\n\", np.mean(arr_2))\n",
    "print (\"Min of Array Elements : \\n\", np.min(arr_2))\n",
    "print (\"Max of Array Elements : \\n\", np.max(arr_2))"
   ]
  },
  {
   "cell_type": "code",
   "execution_count": null,
   "metadata": {},
   "outputs": [],
   "source": [
    "# Other Mathematical operations\n",
    "print (\"Square Root : \\n\", np.sqrt (arr_2))\n",
    "print (\"Sine value : \\n\", np.sin (arr_2))"
   ]
  }
 ],
 "metadata": {
  "kernelspec": {
   "display_name": "Test_Venv",
   "language": "python",
   "name": "python3"
  },
  "language_info": {
   "codemirror_mode": {
    "name": "ipython",
    "version": 3
   },
   "file_extension": ".py",
   "mimetype": "text/x-python",
   "name": "python",
   "nbconvert_exporter": "python",
   "pygments_lexer": "ipython3",
   "version": "3.13.5"
  }
 },
 "nbformat": 4,
 "nbformat_minor": 2
}
