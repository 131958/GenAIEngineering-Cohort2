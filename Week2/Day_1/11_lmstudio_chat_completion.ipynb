{
 "cells": [
  {
   "cell_type": "code",
   "execution_count": 1,
   "id": "65b9d82f",
   "metadata": {},
   "outputs": [],
   "source": [
    "from openai import OpenAI\n",
    "\n",
    "client = OpenAI(\n",
    "    base_url=\"http://127.0.0.1:1234/v1\", # Change this to your setting from LM Studio\n",
    "    api_key=\"lm-studio\"\n",
    ")\n"
   ]
  },
  {
   "cell_type": "code",
   "execution_count": 2,
   "id": "4cb0d960",
   "metadata": {},
   "outputs": [
    {
     "name": "stdout",
     "output_type": "stream",
     "text": [
      "ChatCompletion(id='chatcmpl-74jhn1rscadz632u3gofml', choices=[Choice(finish_reason='stop', index=0, logprobs=None, message=ChatCompletionMessage(content=\"Greetings, friend, a joyful plea,\\nI'm BardBot here, for you to see! \\nA language model, quick and bright,\\nReady to rhyme with all your might! 😊\", refusal=None, role='assistant', annotations=None, audio=None, function_call=None, tool_calls=None))], created=1752324772, model='gemma-3-4b-it-qat', object='chat.completion', service_tier=None, system_fingerprint='gemma-3-4b-it-qat', usage=CompletionUsage(completion_tokens=41, prompt_tokens=18, total_tokens=59, completion_tokens_details=None, prompt_tokens_details=None), stats={})\n"
     ]
    }
   ],
   "source": [
    "completion = client.chat.completions.create(\n",
    "    model=\"gemma-3-4b-it-qat\",\n",
    "    messages=[\n",
    "        {\"role\": \"system\", \"content\": \"Always answer in rhymes.\"},\n",
    "        {\"role\": \"user\", \"content\": \"Introduce yourself.\"}\n",
    "    ],\n",
    "    temperature=2,\n",
    "    max_tokens=2500,\n",
    "    # seed=32,\n",
    ")\n",
    "\n",
    "\n",
    "print(completion)"
   ]
  },
  {
   "cell_type": "code",
   "execution_count": 6,
   "id": "d92c1a86",
   "metadata": {},
   "outputs": [
    {
     "name": "stdout",
     "output_type": "stream",
     "text": [
      "Greetings, friend, a joyful plea,\n",
      "I'm BardBot here, for you to see! \n",
      "A language model, quick and bright,\n",
      "Ready to rhyme with all your might! 😊\n"
     ]
    }
   ],
   "source": [
    "completion_text = completion.choices[0].message.content\n",
    "print(completion_text)"
   ]
  },
  {
   "cell_type": "code",
   "execution_count": 7,
   "id": "49f88c0c",
   "metadata": {},
   "outputs": [
    {
     "name": "stdout",
     "output_type": "stream",
     "text": [
      "ChatCompletion(id='chatcmpl-f9w2x3z552k4wnmy3tpzq', choices=[Choice(finish_reason='length', index=0, logprobs=None, message=ChatCompletionMessage(content='{\\n\"characters\": [\\n    {\\n        \"name\": \"Silas Blackwood\",\\n        \"occupation\": \"Retired Cartographer & Amateur Alchemist\",\\n        \"personality\": \"Gruff, observant, and fiercely independent. Silas carries a quiet sadness beneath his weathered exterior, stemming from a lost expedition decades ago. He’s brilliant at noticing details others miss – both in maps and people – but often reluctant to share his knowledge or feelings.  He has a dry wit and a surprisingly gentle touch when it comes to rare plants.\",\\n        \"background\": \"Silas spent his youth exploring remote corners of the world, charting uncharted territories for the Royal Cartographical Society. A disastrous expedition in the Whispering Peaks led to the disappearance of his entire team, an event he rarely discusses. Now, he lives a solitary life in a crumbling cottage filled with maps, strange ingredients, and half-finished alchemical experiments. He occasionally takes on discreet commissions – mostly involving locating rare herbs or deciphering ancient symbols – for those who can afford his exorbitant fees and don’t pry too deeply into his past.\"\\n    },\\n    {\\n        \"name\": \"Lila “Spark” Reyes\",\\n        \"occupation\": \"Street Artist & Tech Scavenger\",\\n        \"personality\": \"Energetic, impulsive, and relentlessly optimistic. Lila is a whirlwind of bright colors, chaotic energy, and surprisingly insightful observations about the city she calls home. She’s quick-witted, resourceful, and fiercely loyal to her friends. Despite a difficult upbringing, she approaches life with an infectious enthusiasm.\",\\n        \"background\": \"Lila grew up in the sprawling underbelly of Veridium City, scavenging for discarded tech parts and using them to create stunning street murals that blend technology and graffiti art.  She\\'s particularly skilled at repurposing outdated surveillance systems into interactive installations. Lila’s reputation as a ‘ghost artist’ has earned her both respect and trouble with the city’s authorities – who see her work as vandalism, while others recognize its beauty and commentary.” \\xa0 \\xa0 \\xa0 \\xa0 \\xa0 \\xa0 \\xa0 \\xa0 \\xa0 \\xa0 \\xa0 \\xa0 \\xa0 \\xa0 \\xa0 \\xa0 \\xa0 \\xa0 \\xa0 \\xa0 \\xa0 \\xa0 \\xa0 \\xa0 \\xa0 \\xa0 \\xa0 \\xa0 \\xa0 \\xa0 \\xa0 \\xa0 \\xa0 \\xa0 \\xa0 \\xa0 \\xa0 \\xa0 \\xa0 \\xa0 \\xa0 \\xa0 \\xa0 \\xa0 \\xa0 \\xa0 \\xa0 \\xa0 \\xa0 \\xa0 \\xa0 \\xa0 \\xa0 \\xa0 \\xa0 \\xa0 \\xa0 \\xa0 \\xa0 \\xa0 \\xa0 \\xa0 \\xa0 \\xa0 \\xa0 \\xa0 \\xa0 \\xa0 \\xa0 \\xa0 \\xa0 \\xa0 \\xa0 \\xa0 \\xa0 \\xa0 \\xa0 \\xa0 \\xa0 \\xa0 \\xa0 \\xa0 \\xa0 \\xa0 \\xa0 \\xa0 \\xa0 \\xa0 \\xa0 \\xa0 \\xa0 \\xa0 \\xa0 \\xa0 \\xa0 \\xa0 \\xa0 \\xa0 \\xa0 \\xa0 \\xa0 \\xa0 \\xa0 \\xa0 \\xa0 \\xa0 \\xa0 \\xa0 \\xa0 \\xa0 \\xa0 \\xa0 \\xa0 \\xa0 \\xa0 \\xa0 \\xa0 \\xa0 \\xa0 \\xa0 \\xa0 \\xa0 \\xa0 \\xa0 \\xa0 \\xa0 \\xa0 \\xa0 \\xa0 \\xa0 \\xa0 \\xa0 \\xa0 \\xa0 \\xa0 \\xa0 \\xa0 \\xa0 \\xa0 \\xa0 \\xa0 \\xa0 \\xa0 \\xa0 \\xa0 \\xa0 \\xa0 \\xa0 \\xa0 \\xa0 \\xa0 \\xa0 \\xa0 \\xa0 \\xa0 \\xa0 \\xa0 \\xa0 \\xa0 \\xa0 \\xa0 \\xa0 \\xa0 \\xa0 \\xa0 \\xa0 \\xa0 \\xa0 \\xa0 \\xa0 \\xa0 \\xa0 \\xa0 \\xa0 \\xa0 \\xa0 \\xa0 \\xa0 \\xa0 \\xa0 \\xa0 \\xa0 \\xa0 \\xa0 \\xa0 \\xa0 \\xa0 \\xa0 \\xa0 \\xa0 \\xa0 \\xa0 \\xa0 \\xa0 \\xa0 \\xa0 \\xa0 \\xa0 \\xa0 \\xa0 \\xa0 \\xa0 \\xa0 \\xa0 \\xa0 \\xa0 \\xa0 \\xa0 \\xa0 \\xa0 \\xa0 \\xa0 \\xa0 \\xa0 \\xa0 \\xa0 \\xa0 \\xa0 \\xa0 \\xa0 \\xa0 \\xa0 \\xa0 \\xa0 \\xa0 \\xa0 \\xa0 \\xa0 \\xa0 \\xa0 \\xa0 \\xa0 \\xa0 \\xa0 \\xa0 \\xa0 \\xa0 \\xa0 \\xa0 \\xa0 \\xa0 \\xa0 \\xa0 \\xa0 \\xa0 \\xa0 \\xa0 \\xa0 \\xa0 \\xa0 \\xa0 \\xa0 \\xa0 \\xa0 \\xa0 \\xa0 \\xa0 \\xa0 \\xa0 \\xa0 \\xa0 \\xa0 \\xa0 \\xa0 \\xa0 \\xa0 \\xa0 \\xa0 \\xa0 \\xa0 \\xa0 \\xa0 \\xa0 \\xa0 \\xa0 \\xa0 \\xa0 \\xa0 \\xa0 \\xa0 \\xa0 \\xa0 \\xa0 \\xa0 \\xa0 \\xa0 \\xa0 \\xa0 \\xa0 \\xa0 \\xa0 \\xa0 \\xa0 \\xa0 \\xa0 \\xa0 \\xa0 \\xa0 \\xa0 \\xa0 \\xa0 \\xa0 \\xa0 \\xa0 \\xa0 \\xa0 \\xa0 \\xa0 \\xa0 \\xa0 \\xa0 \\xa0 \\xa0 \\xa0 \\xa0 \\xa0 \\xa0 \\xa0 \\xa0 \\xa0 \\xa0 \\xa0 \\xa0 \\xa0 \\xa0 \\xa0 \\xa0 \\xa0 \\xa0 \\xa0 \\xa0 \\xa0 \\xa0 \\xa0 \\xa0 \\xa0 \\xa0 \\xa0 \\xa0 \\xa0 \\xa0 \\xa0 \\xa0 \\xa0 \\xa0 \\xa0 \\xa0 \\xa0 \\xa0 \\xa0 \\xa0 \\xa0 \\xa0 \\xa0 \\xa0 \\xa0 \\xa0 \\xa0 \\xa0 \\xa0 \\xa0 \\xa0 \\xa0 \\xa0 \\xa0 \\xa0 \\xa0 \\xa0 \\xa0 \\xa0 \\xa0 \\xa0 \\xa0 \\xa0 \\xa0 \\xa0 \\xa0 \\xa0 \\xa0 \\xa0 \\xa0 \\xa0 \\xa0 \\xa0 \\xa0 \\xa0 \\xa0 \\xa0 \\xa0 \\xa0 \\xa0 \\xa0 \\xa0 \\xa0 \\xa0 \\xa0 \\xa0 \\xa0 \\xa0 \\xa0 \\xa0 \\xa0 \\xa0 \\xa0 \\xa0 \\xa0 \\xa0 \\xa0 \\xa0 \\xa0 \\xa0 \\xa0 \\xa0 \\xa0 \\xa0 \\xa0 \\xa0 \\xa0 \\xa0 \\xa0 \\xa0 \\xa0 \\xa0 \\xa0 \\xa0 \\xa0 \\xa0 \\xa0 \\xa0 \\xa0 \\xa0 \\xa0 \\xa0 \\xa0 \\xa0 \\xa0 \\xa0 \\xa0 \\xa0 \\xa0 \\xa0 \\xa0 \\xa0 \\xa0 \\xa0 \\xa0 \\xa0 \\xa0 \\xa0 \\xa0 \\xa0 \\xa0 \\xa0 \\xa0 \\xa0 \\xa0 \\xa0 \\xa0 \\xa0 \\xa0 \\xa0 \\xa0 \\xa0 \\xa0 \\xa0 \\xa0 \\xa0 \\xa0 \\xa0 \\xa0 \\xa0 \\xa0 \\xa0 \\xa0 \\xa0 \\xa0 \\xa0 \\xa0 \\xa0 \\xa0 \\xa0 \\xa0 \\xa0 \\xa0 \\xa0 \\xa0 \\xa0 \\xa0 \\xa0 \\xa0 \\xa0 \\xa0 \\xa0 \\xa0 \\xa0 \\xa0 \\xa0 \\xa0 \\xa0 \\xa0 \\xa0 \\xa0 \\xa0 \\xa0 \\xa0 \\xa0 \\xa0 \\xa0 \\xa0 \\xa0 \\xa0 \\xa0 \\xa0 \\xa0 \\xa0 \\xa0 \\xa0 \\xa0 \\xa0 \\xa0 \\xa0 \\xa0 \\xa0 \\xa0 \\xa0 \\xa0 \\xa0 \\xa0 \\xa0 \\xa0 \\xa0 \\xa0 \\xa0 \\xa0 \\xa0 \\xa0 \\xa0 \\xa0 \\xa0 \\xa0 \\xa0 \\xa0 \\xa0 \\xa0 \\xa0 \\xa0 \\xa0 \\xa0 \\xa0 \\xa0 \\xa0 \\xa0 \\xa0 \\xa0 \\xa0 \\xa0 \\xa0 \\xa0 \\xa0 \\xa0 \\xa0 \\xa0 \\xa0 \\xa0 \\xa0 \\xa0 \\xa0 \\xa0 \\xa0 \\xa0 \\xa0 \\xa0 \\xa0 \\xa0 \\xa0 \\xa0 \\xa0 \\xa0 \\xa0 \\xa0 \\xa0 \\xa0 \\xa0 \\xa0 \\xa0 \\xa0 \\xa0 \\xa0 \\xa0 \\xa0 \\xa0 \\xa0 \\xa0 \\xa0 \\xa0 \\xa0 \\xa0 \\xa0 \\xa0 \\xa0 \\xa0 \\xa0 \\xa0 \\xa0 \\xa0 \\xa0 \\xa0 \\xa0 \\xa0 \\xa0 \\xa0 \\xa0 \\xa0 \\xa0 \\xa0 \\xa0 \\xa0 \\xa0 \\xa0 \\xa0 \\xa0 \\xa0 \\xa0 \\xa0 \\xa0 \\xa0 \\xa0 \\xa0 \\xa0 \\xa0 \\xa0 \\xa0 \\xa0 \\xa0 \\xa0 \\xa0 \\xa0 \\xa0 \\xa0 \\xa0 \\xa0 \\xa0 \\xa0 \\xa0 \\xa0 \\xa0 \\xa0 \\xa0 \\xa0 \\xa0 \\xa0 \\xa0 \\xa0 \\xa0 \\xa0 \\xa0 \\xa0 \\xa0 \\xa0 \\xa0 \\xa0 \\xa0 \\xa0 \\xa0 \\xa0 \\xa0 \\xa0 \\xa0 \\xa0 \\xa0 \\xa0 \\xa0 \\xa0 \\xa0 \\xa0 \\xa0 \\xa0 \\xa0 \\xa0 \\xa0 \\xa0 \\xa0 \\xa0 \\xa0 \\xa0 \\xa0 \\xa0 \\xa0 \\xa0 \\xa0 \\xa0 ', refusal=None, role='assistant', annotations=None, audio=None, function_call=None, tool_calls=None))], created=1752324941, model='gemma-3-4b-it-qat', object='chat.completion', service_tier=None, system_fingerprint='gemma-3-4b-it-qat', usage=CompletionUsage(completion_tokens=1807, prompt_tokens=24, total_tokens=1831, completion_tokens_details=None, prompt_tokens_details=None), stats={})\n",
      "{\n",
      "\"characters\": [\n",
      "    {\n",
      "        \"name\": \"Silas Blackwood\",\n",
      "        \"occupation\": \"Retired Cartographer & Amateur Alchemist\",\n",
      "        \"personality\": \"Gruff, observant, and fiercely independent. Silas carries a quiet sadness beneath his weathered exterior, stemming from a lost expedition decades ago. He’s brilliant at noticing details others miss – both in maps and people – but often reluctant to share his knowledge or feelings.  He has a dry wit and a surprisingly gentle touch when it comes to rare plants.\",\n",
      "        \"background\": \"Silas spent his youth exploring remote corners of the world, charting uncharted territories for the Royal Cartographical Society. A disastrous expedition in the Whispering Peaks led to the disappearance of his entire team, an event he rarely discusses. Now, he lives a solitary life in a crumbling cottage filled with maps, strange ingredients, and half-finished alchemical experiments. He occasionally takes on discreet commissions – mostly involving locating rare herbs or deciphering ancient symbols – for those who can afford his exorbitant fees and don’t pry too deeply into his past.\"\n",
      "    },\n",
      "    {\n",
      "        \"name\": \"Lila “Spark” Reyes\",\n",
      "        \"occupation\": \"Street Artist & Tech Scavenger\",\n",
      "        \"personality\": \"Energetic, impulsive, and relentlessly optimistic. Lila is a whirlwind of bright colors, chaotic energy, and surprisingly insightful observations about the city she calls home. She’s quick-witted, resourceful, and fiercely loyal to her friends. Despite a difficult upbringing, she approaches life with an infectious enthusiasm.\",\n",
      "        \"background\": \"Lila grew up in the sprawling underbelly of Veridium City, scavenging for discarded tech parts and using them to create stunning street murals that blend technology and graffiti art.  She's particularly skilled at repurposing outdated surveillance systems into interactive installations. Lila’s reputation as a ‘ghost artist’ has earned her both respect and trouble with the city’s authorities – who see her work as vandalism, while others recognize its beauty and commentary.”                                                                                                                                                                                                                                                                                                                                                                                                                                                                                                                                                                                                                                                                                                                                                                                                                                                                                                                                                                                                                                                                                                                                                                                                                                                                                                                                                                                                                                       \n"
     ]
    }
   ],
   "source": [
    "# Structured Output (json or XML)\n",
    "\n",
    "character_schema = {\n",
    "    \"type\": \"json_schema\",\n",
    "    \"json_schema\": {\n",
    "        \"name\": \"characters\",\n",
    "        \"schema\": {\n",
    "            \"type\": \"object\",\n",
    "            \"properties\": {\n",
    "                \"characters\": {\n",
    "                    \"type\": \"array\",\n",
    "                    \"items\": {\n",
    "                        \"type\": \"object\",\n",
    "                        \"properties\": {\n",
    "                            \"name\": {\"type\": \"string\"},\n",
    "                            \"occupation\": {\"type\": \"string\"},\n",
    "                            \"personality\": {\"type\": \"string\"},\n",
    "                            \"background\": {\"type\": \"string\"}\n",
    "                        },\n",
    "                        \"required\": [\"name\", \"occupation\", \"personality\", \"background\"]\n",
    "                    },\n",
    "                    \"minItems\": 1,\n",
    "                }\n",
    "            },\n",
    "            \"required\": [\"characters\"]\n",
    "        },\n",
    "    }\n",
    "}\n",
    "\n",
    "messages = [\n",
    "    {\"role\": \"system\", \"content\": \"You are a helpful AI assistant.\"},\n",
    "    {\"role\": \"user\", \"content\": \"Create 1-3 fictional characters\"}\n",
    "]\n",
    "\n",
    "response = client.chat.completions.create(\n",
    "    model=\"gemma-3-4b-it-qat\",\n",
    "    messages=messages,\n",
    "    temperature=0.7,\n",
    "    max_tokens=2500,\n",
    "    response_format=character_schema\n",
    ")\n",
    "\n",
    "print(response)\n",
    "print(response.choices[0].message.content)"
   ]
  }
 ],
 "metadata": {
  "kernelspec": {
   "display_name": "Test_Venv",
   "language": "python",
   "name": "python3"
  },
  "language_info": {
   "codemirror_mode": {
    "name": "ipython",
    "version": 3
   },
   "file_extension": ".py",
   "mimetype": "text/x-python",
   "name": "python",
   "nbconvert_exporter": "python",
   "pygments_lexer": "ipython3",
   "version": "3.13.5"
  }
 },
 "nbformat": 4,
 "nbformat_minor": 5
}
